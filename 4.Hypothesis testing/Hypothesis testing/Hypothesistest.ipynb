{
 "cells": [
  {
   "cell_type": "markdown",
   "id": "a03d6898-f924-466d-86a7-ad01e9650364",
   "metadata": {},
   "source": [
    "# Hypothesis Testing"
   ]
  },
  {
   "cell_type": "markdown",
   "id": "e8a9b368-4877-4ba6-9867-72086596de79",
   "metadata": {},
   "source": [
    "# 1.State Hypotheses Statement:\n",
    "\n"
   ]
  },
  {
   "cell_type": "markdown",
   "id": "d064316d-bc52-4b00-9ee0-c9beee3247d5",
   "metadata": {},
   "source": [
    "#### NUll Hypotheses : The Mean weekly operating cost is $4000 ( as per theoretical model)"
   ]
  },
  {
   "cell_type": "markdown",
   "id": "bf35db8a-55d9-459e-9358-8dd1313fe7bd",
   "metadata": {},
   "source": [
    "#### Alternative Hypotheses: The mean weekly operationg cost is greater than $4000"
   ]
  },
  {
   "cell_type": "markdown",
   "id": "018c9a9f-3e68-4582-8dcb-24f8687272ed",
   "metadata": {},
   "source": [
    "# 2. Calculate the Test Statistic:\n",
    "\n",
    "\n"
   ]
  },
  {
   "cell_type": "markdown",
   "id": "6b0a003d-af13-423f-a6ba-353eabdf6822",
   "metadata": {},
   "source": [
    "### Sample  Mean = $3050"
   ]
  },
  {
   "cell_type": "markdown",
   "id": "7f796710-6498-470e-a045-d673976c6e9a",
   "metadata": {},
   "source": [
    "### Theoretical Mean = $4000"
   ]
  },
  {
   "cell_type": "markdown",
   "id": "752b0ae2-eab0-4d1d-b911-6a8b62895cc2",
   "metadata": {},
   "source": [
    "### Standard Deviation = 5*25= 125\n",
    "### Sample size = 25\n"
   ]
  },
  {
   "cell_type": "code",
   "execution_count": 5,
   "id": "d23000de-d358-4444-bfe1-0ac430200cac",
   "metadata": {},
   "outputs": [
    {
     "data": {
      "text/plain": [
       "-38.0"
      ]
     },
     "execution_count": 5,
     "metadata": {},
     "output_type": "execute_result"
    }
   ],
   "source": [
    "import numpy as np \n",
    "t=(3050-4000)/(125/(np.sqrt(25)))\n",
    "t"
   ]
  },
  {
   "cell_type": "code",
   "execution_count": 11,
   "id": "570e14b4-1008-46f4-9d63-079c8806c87c",
   "metadata": {},
   "outputs": [
    {
     "data": {
      "text/plain": [
       "-1.6448536269514729"
      ]
     },
     "execution_count": 11,
     "metadata": {},
     "output_type": "execute_result"
    }
   ],
   "source": [
    "from scipy import stats\n",
    "stats.norm.ppf(0.05) # Standard normal (Z) distribution table"
   ]
  },
  {
   "cell_type": "markdown",
   "id": "07aea84b-f505-45cd-812e-10b14a3ae359",
   "metadata": {},
   "source": [
    "# 4. Make a Decision"
   ]
  },
  {
   "cell_type": "markdown",
   "id": "b4391d9e-66e0-43e3-9ced-ed87bfd473b6",
   "metadata": {},
   "source": [
    "### Z = -38 is mush samller than -1.645\n",
    "### Since Z < critical value, we reject the null hypothesis\n",
    "### We accpted the Alternative hypothesis "
   ]
  }
 ],
 "metadata": {
  "kernelspec": {
   "display_name": "Python [conda env:base] *",
   "language": "python",
   "name": "conda-base-py"
  },
  "language_info": {
   "codemirror_mode": {
    "name": "ipython",
    "version": 3
   },
   "file_extension": ".py",
   "mimetype": "text/x-python",
   "name": "python",
   "nbconvert_exporter": "python",
   "pygments_lexer": "ipython3",
   "version": "3.12.7"
  }
 },
 "nbformat": 4,
 "nbformat_minor": 5
}
