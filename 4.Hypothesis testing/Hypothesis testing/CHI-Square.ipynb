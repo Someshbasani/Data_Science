{
 "cells": [
  {
   "cell_type": "markdown",
   "id": "202da174-660e-4332-a292-2836e43e8c6c",
   "metadata": {},
   "source": [
    "# Chi-Square test"
   ]
  },
  {
   "cell_type": "code",
   "execution_count": 71,
   "id": "cb92efcb-55c9-4e8f-89bd-fded2083e393",
   "metadata": {},
   "outputs": [],
   "source": [
    "import pandas as pd\n",
    "import numpy as np"
   ]
  },
  {
   "cell_type": "code",
   "execution_count": 73,
   "id": "d91ec8fd-36b3-4898-9548-5423e9f40911",
   "metadata": {},
   "outputs": [],
   "source": [
    "Satisfaction = [\"Verysatisfied\", \"Satisfied\", \"Neutral\", \"Unsatisfied\", \"VeryUnsatisfied\",\"Total\"]\n",
    "SmartThermostat = [50,80,60,30,20,240]\n",
    "SmartLight = [70,100,90,50,50,360]\n",
    "Total=[120,180,150,80,70,600]"
   ]
  },
  {
   "cell_type": "code",
   "execution_count": 75,
   "id": "7ef39b84-83c9-4ea8-acbc-61e19d72545a",
   "metadata": {},
   "outputs": [
    {
     "data": {
      "text/html": [
       "<div>\n",
       "<style scoped>\n",
       "    .dataframe tbody tr th:only-of-type {\n",
       "        vertical-align: middle;\n",
       "    }\n",
       "\n",
       "    .dataframe tbody tr th {\n",
       "        vertical-align: top;\n",
       "    }\n",
       "\n",
       "    .dataframe thead th {\n",
       "        text-align: right;\n",
       "    }\n",
       "</style>\n",
       "<table border=\"1\" class=\"dataframe\">\n",
       "  <thead>\n",
       "    <tr style=\"text-align: right;\">\n",
       "      <th></th>\n",
       "      <th>Satisfaction</th>\n",
       "      <th>Smart Thermostat</th>\n",
       "      <th>SmartLight</th>\n",
       "      <th>Total</th>\n",
       "    </tr>\n",
       "  </thead>\n",
       "  <tbody>\n",
       "    <tr>\n",
       "      <th>0</th>\n",
       "      <td>Verysatisfied</td>\n",
       "      <td>50</td>\n",
       "      <td>70</td>\n",
       "      <td>120</td>\n",
       "    </tr>\n",
       "    <tr>\n",
       "      <th>1</th>\n",
       "      <td>Satisfied</td>\n",
       "      <td>80</td>\n",
       "      <td>100</td>\n",
       "      <td>180</td>\n",
       "    </tr>\n",
       "    <tr>\n",
       "      <th>2</th>\n",
       "      <td>Neutral</td>\n",
       "      <td>60</td>\n",
       "      <td>90</td>\n",
       "      <td>150</td>\n",
       "    </tr>\n",
       "    <tr>\n",
       "      <th>3</th>\n",
       "      <td>Unsatisfied</td>\n",
       "      <td>30</td>\n",
       "      <td>50</td>\n",
       "      <td>80</td>\n",
       "    </tr>\n",
       "    <tr>\n",
       "      <th>4</th>\n",
       "      <td>VeryUnsatisfied</td>\n",
       "      <td>20</td>\n",
       "      <td>50</td>\n",
       "      <td>70</td>\n",
       "    </tr>\n",
       "    <tr>\n",
       "      <th>5</th>\n",
       "      <td>Total</td>\n",
       "      <td>240</td>\n",
       "      <td>360</td>\n",
       "      <td>600</td>\n",
       "    </tr>\n",
       "  </tbody>\n",
       "</table>\n",
       "</div>"
      ],
      "text/plain": [
       "      Satisfaction  Smart Thermostat  SmartLight  Total\n",
       "0    Verysatisfied                50          70    120\n",
       "1        Satisfied                80         100    180\n",
       "2          Neutral                60          90    150\n",
       "3      Unsatisfied                30          50     80\n",
       "4  VeryUnsatisfied                20          50     70\n",
       "5            Total               240         360    600"
      ]
     },
     "execution_count": 75,
     "metadata": {},
     "output_type": "execute_result"
    }
   ],
   "source": [
    "data=pd.DataFrame({'Satisfaction':Satisfaction, 'Smart Thermostat': SmartThermostat, 'SmartLight': SmartLight, 'Total':Total})\n",
    "data"
   ]
  },
  {
   "cell_type": "markdown",
   "id": "496b75ba-d23f-48e2-96c8-656b5f4ea865",
   "metadata": {},
   "source": [
    "# 1.State the Hypothesis:"
   ]
  },
  {
   "cell_type": "markdown",
   "id": "fb699a83-c025-493e-950e-62143e238f07",
   "metadata": {},
   "source": [
    "### Null Hypothesis (H₀): There is no association between device type and customer satisfaction (independent).\n",
    "\n",
    "### Alternative Hypothesis (H₁): There is an association between device type and customer satisfaction (dependent)."
   ]
  },
  {
   "cell_type": "markdown",
   "id": "14e9471c-1985-4f33-831d-1728ddff0125",
   "metadata": {},
   "source": [
    "#  2.Compute the Chi-Square Statistic"
   ]
  },
  {
   "cell_type": "code",
   "execution_count": 77,
   "id": "9f10c8f4-c245-4c9a-b751-f8d68e012eba",
   "metadata": {},
   "outputs": [],
   "source": [
    "observed = np.array([\n",
    "    [50 ,70],\n",
    "    [80, 100],\n",
    "    [60, 90],\n",
    "    [30,50],\n",
    "    [20,50]\n",
    "])"
   ]
  },
  {
   "cell_type": "code",
   "execution_count": 79,
   "id": "1938a6c4-4142-41d7-b466-85f3e6fa2447",
   "metadata": {},
   "outputs": [
    {
     "data": {
      "text/plain": [
       "Chi2ContingencyResult(statistic=5.638227513227513, pvalue=0.22784371130697179, dof=4, expected_freq=array([[ 48.,  72.],\n",
       "       [ 72., 108.],\n",
       "       [ 60.,  90.],\n",
       "       [ 32.,  48.],\n",
       "       [ 28.,  42.]]))"
      ]
     },
     "execution_count": 79,
     "metadata": {},
     "output_type": "execute_result"
    }
   ],
   "source": [
    "import scipy.stats as  stats\n",
    "stats.chi2_contingency(observed)"
   ]
  },
  {
   "cell_type": "code",
   "execution_count": 81,
   "id": "203983cb-8bb2-40cf-8b20-65365f1aceb7",
   "metadata": {},
   "outputs": [],
   "source": [
    "from scipy.stats import chi2_contingency\n",
    "chi, p, dof, expected = chi2_contingency(observed)"
   ]
  },
  {
   "cell_type": "raw",
   "id": "a50db867-3b6c-49c5-91b1-e4793c236720",
   "metadata": {},
   "source": []
  },
  {
   "cell_type": "code",
   "execution_count": 84,
   "id": "88e0c229-2e92-41ee-8297-758c9f0894fa",
   "metadata": {},
   "outputs": [
    {
     "name": "stdout",
     "output_type": "stream",
     "text": [
      "5.638227513227513 0.22784371130697179 4\n"
     ]
    }
   ],
   "source": [
    "print(chi,p,dof)"
   ]
  },
  {
   "cell_type": "markdown",
   "id": "d3c947bf-abe2-469f-96e5-c669cc79da30",
   "metadata": {},
   "source": [
    "# Determine the Critical Value"
   ]
  },
  {
   "cell_type": "code",
   "execution_count": 1,
   "id": "1b66193e-58d2-4963-81a6-b5de328a0752",
   "metadata": {},
   "outputs": [
    {
     "name": "stdout",
     "output_type": "stream",
     "text": [
      "Critical Value: 9.487729036781154\n"
     ]
    }
   ],
   "source": [
    "import scipy.stats as stats\n",
    "\n",
    "alpha = 0.05\n",
    "df = 4\n",
    "\n",
    "critical_value = stats.chi2.ppf(1 - alpha, df)\n",
    "\n",
    "print(\"Critical Value:\", critical_value)\n"
   ]
  },
  {
   "cell_type": "markdown",
   "id": "4a0c237d-0cd4-4e37-806e-be372d00d9ba",
   "metadata": {},
   "source": [
    "# 4.Make a Decision"
   ]
  },
  {
   "cell_type": "markdown",
   "id": "c8e0e014-0496-41a6-9ae1-24b396b67866",
   "metadata": {},
   "source": [
    "## Compare p-value with Alpha (0.05)\n",
    "## p-value = 0.2278\n",
    "## Alpha (significance level) = 0.05\n",
    "## Since p-value (0.2278) > 0.05, we fail to reject H₀.\n",
    "## We accepted the Null Hypothesis"
   ]
  }
 ],
 "metadata": {
  "kernelspec": {
   "display_name": "Python [conda env:base] *",
   "language": "python",
   "name": "conda-base-py"
  },
  "language_info": {
   "codemirror_mode": {
    "name": "ipython",
    "version": 3
   },
   "file_extension": ".py",
   "mimetype": "text/x-python",
   "name": "python",
   "nbconvert_exporter": "python",
   "pygments_lexer": "ipython3",
   "version": "3.12.7"
  }
 },
 "nbformat": 4,
 "nbformat_minor": 5
}
