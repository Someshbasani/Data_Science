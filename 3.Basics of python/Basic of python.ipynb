{
 "cells": [
  {
   "cell_type": "markdown",
   "id": "8fbbb1f4-f8c1-4be9-9ad4-a1466890f8e2",
   "metadata": {},
   "source": [
    "PYTHON PROGRAMMING ASSIGNMENT"
   ]
  },
  {
   "cell_type": "markdown",
   "id": "2ad84dba-143f-4921-8f64-6f010ad01556",
   "metadata": {},
   "source": [
    "1: Prime Numbers"
   ]
  },
  {
   "cell_type": "code",
   "execution_count": 35,
   "id": "b2a41bce-929f-4a46-a5da-f24fc389c2e5",
   "metadata": {},
   "outputs": [
    {
     "name": "stdin",
     "output_type": "stream",
     "text": [
      "ENTER A NUMBER:  15\n"
     ]
    },
    {
     "name": "stdout",
     "output_type": "stream",
     "text": [
      "15 is not  a prime nuber.\n"
     ]
    }
   ],
   "source": [
    "import  math\n",
    "\n",
    "def is_prime(num):\n",
    "\n",
    "    if num <= 1:\n",
    "        return False\n",
    "    if num == 2:\n",
    "        return True\n",
    "    if num % 2 == 0:\n",
    "        return False\n",
    "    max_divisor = int(math.sqrt(num)) + 1\n",
    "    for i in range (3, max_divisor, 2):\n",
    "        if num % i == 0:\n",
    "            return False\n",
    "    return True\n",
    "number = int(input(\"ENTER A NUMBER: \"))\n",
    "if is_prime(number):\n",
    "    print(f\"{number} is a prime number.\")\n",
    "else:\n",
    "    print(f\"{number} is not  a prime nuber.\")"
   ]
  },
  {
   "cell_type": "markdown",
   "id": "2165223a-79e6-404c-86d8-c4dde6b6cd67",
   "metadata": {},
   "source": [
    "2: Product of Random Numbers"
   ]
  },
  {
   "cell_type": "code",
   "execution_count": 13,
   "id": "7b72cb4d-7ee5-4f94-87e7-d2bbfd756041",
   "metadata": {},
   "outputs": [
    {
     "name": "stdin",
     "output_type": "stream",
     "text": [
      "What is 10 * 9?  90\n"
     ]
    },
    {
     "name": "stdout",
     "output_type": "stream",
     "text": [
      "Correct! Well done.\n"
     ]
    }
   ],
   "source": [
    "import random\n",
    "\n",
    "def main():\n",
    "    \n",
    "    num1 = random.randint(1, 10)\n",
    "    num2 = random.randint(1, 10)\n",
    "    \n",
    "    correct_product = num1 * num2\n",
    "    \n",
    "    user_answer = int(input(f\"What is {num1} * {num2}? \"))\n",
    "    \n",
    "    if user_answer == correct_product:\n",
    "        print(\"Correct! Well done.\")\n",
    "    else:\n",
    "        print(f\"Incorrect. The correct answer is {correct_product}.\")\n",
    "\n",
    "if __name__ == \"__main__\":\n",
    "    main()\n"
   ]
  },
  {
   "cell_type": "markdown",
   "id": "f52e634d-8a14-4c86-92cf-8589cefa1049",
   "metadata": {},
   "source": [
    "3: Squares of Even/Odd Numbers"
   ]
  },
  {
   "cell_type": "code",
   "execution_count": 33,
   "id": "eb1d8863-a836-4e0b-be16-20fe90dc44dc",
   "metadata": {},
   "outputs": [
    {
     "name": "stdout",
     "output_type": "stream",
     "text": [
      "Square of 100: 10000\n",
      "Square of 101: 10201\n",
      "Square of 102: 10404\n",
      "Square of 103: 10609\n",
      "Square of 104: 10816\n",
      "Square of 105: 11025\n",
      "Square of 106: 11236\n",
      "Square of 107: 11449\n",
      "Square of 108: 11664\n",
      "Square of 109: 11881\n",
      "Square of 110: 12100\n",
      "Square of 111: 12321\n",
      "Square of 112: 12544\n",
      "Square of 113: 12769\n",
      "Square of 114: 12996\n",
      "Square of 115: 13225\n",
      "Square of 116: 13456\n",
      "Square of 117: 13689\n",
      "Square of 118: 13924\n",
      "Square of 119: 14161\n",
      "Square of 120: 14400\n",
      "Square of 121: 14641\n",
      "Square of 122: 14884\n",
      "Square of 123: 15129\n",
      "Square of 124: 15376\n",
      "Square of 125: 15625\n",
      "Square of 126: 15876\n",
      "Square of 127: 16129\n",
      "Square of 128: 16384\n",
      "Square of 129: 16641\n",
      "Square of 130: 16900\n",
      "Square of 131: 17161\n",
      "Square of 132: 17424\n",
      "Square of 133: 17689\n",
      "Square of 134: 17956\n",
      "Square of 135: 18225\n",
      "Square of 136: 18496\n",
      "Square of 137: 18769\n",
      "Square of 138: 19044\n",
      "Square of 139: 19321\n",
      "Square of 140: 19600\n",
      "Square of 141: 19881\n",
      "Square of 142: 20164\n",
      "Square of 143: 20449\n",
      "Square of 144: 20736\n",
      "Square of 145: 21025\n",
      "Square of 146: 21316\n",
      "Square of 147: 21609\n",
      "Square of 148: 21904\n",
      "Square of 149: 22201\n",
      "Square of 150: 22500\n",
      "Square of 151: 22801\n",
      "Square of 152: 23104\n",
      "Square of 153: 23409\n",
      "Square of 154: 23716\n",
      "Square of 155: 24025\n",
      "Square of 156: 24336\n",
      "Square of 157: 24649\n",
      "Square of 158: 24964\n",
      "Square of 159: 25281\n",
      "Square of 160: 25600\n",
      "Square of 161: 25921\n",
      "Square of 162: 26244\n",
      "Square of 163: 26569\n",
      "Square of 164: 26896\n",
      "Square of 165: 27225\n",
      "Square of 166: 27556\n",
      "Square of 167: 27889\n",
      "Square of 168: 28224\n",
      "Square of 169: 28561\n",
      "Square of 170: 28900\n",
      "Square of 171: 29241\n",
      "Square of 172: 29584\n",
      "Square of 173: 29929\n",
      "Square of 174: 30276\n",
      "Square of 175: 30625\n",
      "Square of 176: 30976\n",
      "Square of 177: 31329\n",
      "Square of 178: 31684\n",
      "Square of 179: 32041\n",
      "Square of 180: 32400\n",
      "Square of 181: 32761\n",
      "Square of 182: 33124\n",
      "Square of 183: 33489\n",
      "Square of 184: 33856\n",
      "Square of 185: 34225\n",
      "Square of 186: 34596\n",
      "Square of 187: 34969\n",
      "Square of 188: 35344\n",
      "Square of 189: 35721\n",
      "Square of 190: 36100\n",
      "Square of 191: 36481\n",
      "Square of 192: 36864\n",
      "Square of 193: 37249\n",
      "Square of 194: 37636\n",
      "Square of 195: 38025\n",
      "Square of 196: 38416\n",
      "Square of 197: 38809\n",
      "Square of 198: 39204\n",
      "Square of 199: 39601\n",
      "Square of 200: 40000\n"
     ]
    }
   ],
   "source": [
    "def main():\n",
    "    for i in range(100,201):\n",
    "        if i % 2 == 0 or i % 2 == 1:\n",
    "            print(f\"Square of {i}: {i ** 2}\")\n",
    "if __name__ ==  \"__main__\" :\n",
    "    main()\n",
    "    "
   ]
  },
  {
   "cell_type": "markdown",
   "id": "2d50d97e-f844-4809-9ba0-ef2334ec3a37",
   "metadata": {},
   "source": [
    "4: Word Counter"
   ]
  },
  {
   "cell_type": "code",
   "execution_count": 37,
   "id": "f3cd416e-4f64-49c8-81c1-5e85282e3ba2",
   "metadata": {},
   "outputs": [
    {
     "name": "stdout",
     "output_type": "stream",
     "text": [
      "'This': 2\n",
      "'is': 1\n",
      "'a': 1\n",
      "'sample': 1\n",
      "'text.': 1\n",
      "'text': 1\n",
      "'will': 1\n",
      "'be': 1\n",
      "'used': 1\n",
      "'to': 1\n",
      "'demonstrate': 1\n",
      "'the': 1\n",
      "'word': 1\n",
      "'counter.': 1\n"
     ]
    }
   ],
   "source": [
    "def count_words(text):\n",
    "  \n",
    "    words = text.split() \n",
    "    word_count = {}  \n",
    "    for word in words:\n",
    "        if word in word_count:\n",
    "            word_count[word] += 1\n",
    "        else:\n",
    "            word_count[word] = 1\n",
    "    return word_count\n",
    "input_text = \"This is a sample text. This text will be used to demonstrate the word counter.\"\n",
    "\n",
    "result = count_words(input_text)\n",
    "for word, count in result.items():\n",
    "    print(f\"'{word}': {count}\")\n"
   ]
  },
  {
   "cell_type": "markdown",
   "id": "612301b0-bbc8-45f9-8035-4a77038a3724",
   "metadata": {},
   "source": [
    "5: Check For Palindrome"
   ]
  },
  {
   "cell_type": "code",
   "execution_count": 39,
   "id": "b86be2b9-b276-4683-a641-aaf5d1b84a6f",
   "metadata": {},
   "outputs": [
    {
     "name": "stdout",
     "output_type": "stream",
     "text": [
      "True\n"
     ]
    }
   ],
   "source": [
    "def is_palindrome(s):\n",
    "  \n",
    "    cleaned = ''.join(char.lower() for char in s if char.isalnum())\n",
    "    return cleaned == cleaned[::-1]\n",
    "    \n",
    "input_string = \"racecar\"\n",
    "print(is_palindrome(input_string)) \n",
    "\n"
   ]
  },
  {
   "cell_type": "code",
   "execution_count": null,
   "id": "9e5fe82f-9d61-457d-ba56-ab254755739f",
   "metadata": {},
   "outputs": [],
   "source": []
  }
 ],
 "metadata": {
  "kernelspec": {
   "display_name": "Python [conda env:base] *",
   "language": "python",
   "name": "conda-base-py"
  },
  "language_info": {
   "codemirror_mode": {
    "name": "ipython",
    "version": 3
   },
   "file_extension": ".py",
   "mimetype": "text/x-python",
   "name": "python",
   "nbconvert_exporter": "python",
   "pygments_lexer": "ipython3",
   "version": "3.12.7"
  }
 },
 "nbformat": 4,
 "nbformat_minor": 5
}
