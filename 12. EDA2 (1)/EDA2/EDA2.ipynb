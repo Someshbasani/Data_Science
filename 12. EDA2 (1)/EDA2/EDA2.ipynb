{
 "cells": [
  {
   "cell_type": "code",
   "execution_count": 1,
   "id": "45ac53b1-7ba9-4a0b-8a83-199521851bf1",
   "metadata": {},
   "outputs": [],
   "source": [
    "import pandas as pd\n",
    "import numpy  as np"
   ]
  },
  {
   "cell_type": "code",
   "execution_count": null,
   "id": "932eebaa-4da7-4163-84f2-619722b6c87f",
   "metadata": {},
   "outputs": [],
   "source": [
    "df = pd.read_csv('adult_with_headers.csv')\n",
    "df.head()"
   ]
  },
  {
   "cell_type": "code",
   "execution_count": null,
   "id": "87e61e11-54cd-4cc5-936a-d63e68c20219",
   "metadata": {},
   "outputs": [],
   "source": [
    "df.info()"
   ]
  },
  {
   "cell_type": "code",
   "execution_count": null,
   "id": "d38e3033-a14f-4f15-a6c6-05db8456938b",
   "metadata": {},
   "outputs": [],
   "source": [
    "df.isnull().sum()"
   ]
  },
  {
   "cell_type": "code",
   "execution_count": null,
   "id": "a29acb00-ebe4-440d-b065-5a71b5bfd49c",
   "metadata": {},
   "outputs": [],
   "source": [
    "df.describe()"
   ]
  },
  {
   "cell_type": "code",
   "execution_count": null,
   "id": "ff84c721-f902-4646-adcb-868ecd5c98fd",
   "metadata": {},
   "outputs": [],
   "source": [
    "# Standard Scaling:"
   ]
  },
  {
   "cell_type": "code",
   "execution_count": null,
   "id": "731f3e73-8970-4321-9862-6f321423793b",
   "metadata": {},
   "outputs": [],
   "source": [
    "df1 = df.copy()\n",
    "from sklearn.preprocessing import StandardScaler\n",
    "scaler = StandardScaler()\n",
    "numerical = ['age','fnlwgt','education_num','capital_gain','capital_loss','hours_per_week']\n",
    "df1[numerical] = scaler.fit_transform(df1[numerical])"
   ]
  },
  {
   "cell_type": "code",
   "execution_count": null,
   "id": "fcd9cc31-b412-4ae1-bcc0-6bb758fcbb3d",
   "metadata": {},
   "outputs": [],
   "source": [
    "# Min_MAx Scaling"
   ]
  },
  {
   "cell_type": "code",
   "execution_count": null,
   "id": "7743f1f0-be0b-48a8-b7e6-c74979bdc989",
   "metadata": {},
   "outputs": [],
   "source": [
    "from sklearn.preprocessing import MinMaxScaler\n",
    "scaler = MinMaxScaler()\n",
    "df1[numerical] = scaler.fit_transform(df1[numerical])"
   ]
  },
  {
   "cell_type": "code",
   "execution_count": null,
   "id": "632cbb40-9baa-4020-87d6-129ecd72fff9",
   "metadata": {},
   "outputs": [],
   "source": [
    "# Discussion:\n",
    "\n",
    "###  Standard Scaling is preferred when the data has outliers or when the algorithm assumes a normal distribution.\n",
    "\n",
    "### Min-Max Scaling is preferred when the data is bounded and the algorithm is sensitive to the scale of the features."
   ]
  },
  {
   "cell_type": "code",
   "execution_count": null,
   "id": "1ceada4e-9b5c-4713-b645-f06543dd8cf1",
   "metadata": {},
   "outputs": [],
   "source": [
    "# 2. Encoding Techniques"
   ]
  },
  {
   "cell_type": "code",
   "execution_count": null,
   "id": "5f674db8-63e5-4d69-8881-0034b96d6c18",
   "metadata": {},
   "outputs": [],
   "source": [
    "# Apply One-Hot Encoding to Categorical Variables with Less Than 5 Categories\n",
    "df = pd.get_dummies(df,columns=['sex','race'], drop_first = True)"
   ]
  },
  {
   "cell_type": "code",
   "execution_count": null,
   "id": "912af9c9-9955-4756-9b49-dc1a133637ce",
   "metadata": {},
   "outputs": [],
   "source": [
    "df.head()"
   ]
  },
  {
   "cell_type": "code",
   "execution_count": null,
   "id": "cfbea5ef-82be-4d6c-9f5f-afc20eaaa7d1",
   "metadata": {},
   "outputs": [],
   "source": [
    "# Use Label Encoding for Categorical Variables with More Than 5 Categories"
   ]
  },
  {
   "cell_type": "code",
   "execution_count": null,
   "id": "121c6c05-d3ea-4c24-9dd4-63892c86b6ee",
   "metadata": {},
   "outputs": [],
   "source": [
    "from sklearn.preprocessing import LabelEncoder\n",
    "label_encoder = LabelEncoder()\n",
    "df['education'] = label_encoder.fit_transform(df['education'])\n",
    "df['occupation'] = label_encoder.fit_transform(df['occupation'])\n",
    "df['workclass'] = label_encoder.fit_transform(df['workclass'])\n",
    "df['marital_status'] = label_encoder.fit_transform(df['marital_status'])\n",
    "df['relationship'] = label_encoder.fit_transform(df['relationship'])\n",
    "df['native_country'] = label_encoder.fit_transform(df['native_country'])\n",
    "#df['income'] = label_encoder.fit_transform(df['income'])"
   ]
  },
  {
   "cell_type": "code",
   "execution_count": null,
   "id": "fcd2a0e3-52c0-403a-848d-5488ee4b38c3",
   "metadata": {},
   "outputs": [],
   "source": [
    "df.sample(50)"
   ]
  },
  {
   "cell_type": "code",
   "execution_count": null,
   "id": "ce7f271f-690b-4e73-a10f-322c458b0ea0",
   "metadata": {},
   "outputs": [],
   "source": []
  },
  {
   "cell_type": "code",
   "execution_count": null,
   "id": "6c83fcd1-d109-4543-984e-20b146ed0446",
   "metadata": {},
   "outputs": [],
   "source": [
    "#  Discuss the Pros and Cons of One-Hot Encoding and Label Encoding"
   ]
  },
  {
   "cell_type": "code",
   "execution_count": null,
   "id": "142b2a17-8906-4921-9403-d8f1c5195493",
   "metadata": {},
   "outputs": [],
   "source": [
    "# One-Hot Encoding:\n",
    "\n",
    "## Pros: Preserves the categorical nature of the data, avoids ordinal assumptions.\n",
    "\n",
    "## Cons: Can lead to high dimensionality (curse of dimensionality) if there are many categories.\n",
    "\n",
    "# Label Encoding:\n",
    "\n",
    "## Pros: Reduces dimensionality, suitable for ordinal data.\n",
    "\n",
    "## Cons: Introduces ordinal relationships where none exist, which can mislead the model."
   ]
  },
  {
   "cell_type": "code",
   "execution_count": null,
   "id": "3234d4eb-6626-4317-943e-6f425c57cd1d",
   "metadata": {},
   "outputs": [],
   "source": [
    "# Feature Engineering"
   ]
  },
  {
   "cell_type": "code",
   "execution_count": null,
   "id": "c7ac4389-5e66-4726-aaba-2c714f769071",
   "metadata": {},
   "outputs": [],
   "source": [
    "# 1. Hour_per_week\n",
    "df['hours_per_week_category'] = pd.cut(df['hours_per_week'], bins=[0, 30, 40, 60, 100],\n",
    "                                       labels=['part-time', 'full-time', 'overtime', 'extra-overtime'])\n",
    "# Explanation:\n",
    "\n",
    "# Part-time: 0–30 hours/week\n",
    "\n",
    "# Full-time: 31–40 hours/week\n",
    "\n",
    "# Overtime: 41–60 hours/week\n",
    "\n",
    "# Extra-overtime: 61+ hours/week\n",
    "df['hours_per_week_category'].sample(50)"
   ]
  },
  {
   "cell_type": "code",
   "execution_count": null,
   "id": "f44ac290-71fc-4a69-8a14-4f031f401740",
   "metadata": {},
   "outputs": [],
   "source": [
    "# capital_net\n",
    "df['capital_net'] = df['capital_gain'] - df['capital_loss']\n",
    "df['capital_net']\n",
    "# A positive value indicates a net gain.\n",
    "\n",
    "# A negative value indicates a net loss."
   ]
  },
  {
   "cell_type": "code",
   "execution_count": null,
   "id": "ebc872b2-403b-4676-bb21-44d84cd083dd",
   "metadata": {},
   "outputs": [],
   "source": [
    "# age_group\n",
    "df['age_group'] = pd.cut(\n",
    "    df['age'],\n",
    "    bins=[0, 25, 40, 60, 100],\n",
    "    labels=['young', 'mid-career', 'senior', 'retired']\n",
    ")\n",
    "df['age_group']\n",
    "# Explanation:\n",
    "\n",
    "# Young: 0–25 years\n",
    "\n",
    "# Mid-career: 26–40 years\n",
    "\n",
    "# Senior: 41–60 years\n",
    "\n",
    "# Retired: 61+ years\n"
   ]
  },
  {
   "cell_type": "code",
   "execution_count": null,
   "id": "0728be3e-4b30-46b1-a51d-809feb72af44",
   "metadata": {},
   "outputs": [],
   "source": [
    "# Transforming Skewed Features"
   ]
  },
  {
   "cell_type": "code",
   "execution_count": null,
   "id": "58d98ea7-9a72-4a88-92e9-a1c9dc4b9bae",
   "metadata": {},
   "outputs": [],
   "source": [
    "# Log Transformation for capital_gain and capital_loss\n",
    "df['capital_gain_log'] = np.log1p(df['capital_gain'])\n",
    "df['capital_loss_log'] = np.log1p(df['capital_loss'])\n",
    "df['capital_gain_log']\n",
    "#df['capital_loss_log']"
   ]
  },
  {
   "cell_type": "code",
   "execution_count": null,
   "id": "05b8ee0b-6fb4-4e03-8127-e3b0b8ef5cf9",
   "metadata": {},
   "outputs": [],
   "source": [
    "df['capital_loss_log'] "
   ]
  },
  {
   "cell_type": "code",
   "execution_count": null,
   "id": "18e2cb62-5271-41e5-b385-3b8da9bd83b4",
   "metadata": {},
   "outputs": [],
   "source": [
    "#  Square Root Transformation for fnlwgt\n",
    "df['fnlwgt_sqrt'] = np.sqrt(df['fnlwgt'])\n",
    "df['fnlwgt_sqrt']"
   ]
  },
  {
   "cell_type": "code",
   "execution_count": null,
   "id": "e326a519-6e54-4707-90d6-7d20276de41c",
   "metadata": {},
   "outputs": [],
   "source": [
    "#  Feature Selection:"
   ]
  },
  {
   "cell_type": "code",
   "execution_count": null,
   "id": "2050b7be-00c8-492d-bb5c-d76c51f7fbe6",
   "metadata": {},
   "outputs": [],
   "source": [
    "# Isolation Forest for Outlier Detection"
   ]
  },
  {
   "cell_type": "code",
   "execution_count": null,
   "id": "a475264d-4a72-4c3d-bbe7-97d58d9c623c",
   "metadata": {},
   "outputs": [],
   "source": [
    "df.info()"
   ]
  },
  {
   "cell_type": "code",
   "execution_count": 3,
   "id": "dabfe8a1-56f3-45fc-a34d-90bb308a9ad5",
   "metadata": {},
   "outputs": [
    {
     "data": {
      "text/html": [
       "<div>\n",
       "<style scoped>\n",
       "    .dataframe tbody tr th:only-of-type {\n",
       "        vertical-align: middle;\n",
       "    }\n",
       "\n",
       "    .dataframe tbody tr th {\n",
       "        vertical-align: top;\n",
       "    }\n",
       "\n",
       "    .dataframe thead th {\n",
       "        text-align: right;\n",
       "    }\n",
       "</style>\n",
       "<table border=\"1\" class=\"dataframe\">\n",
       "  <thead>\n",
       "    <tr style=\"text-align: right;\">\n",
       "      <th></th>\n",
       "      <th>age</th>\n",
       "      <th>workclass</th>\n",
       "      <th>fnlwgt</th>\n",
       "      <th>education</th>\n",
       "      <th>education_num</th>\n",
       "      <th>marital_status</th>\n",
       "      <th>occupation</th>\n",
       "      <th>relationship</th>\n",
       "      <th>race</th>\n",
       "      <th>sex</th>\n",
       "      <th>capital_gain</th>\n",
       "      <th>capital_loss</th>\n",
       "      <th>hours_per_week</th>\n",
       "      <th>native_country</th>\n",
       "      <th>income</th>\n",
       "    </tr>\n",
       "  </thead>\n",
       "  <tbody>\n",
       "    <tr>\n",
       "      <th>0</th>\n",
       "      <td>39</td>\n",
       "      <td>State-gov</td>\n",
       "      <td>77516</td>\n",
       "      <td>Bachelors</td>\n",
       "      <td>13</td>\n",
       "      <td>Never-married</td>\n",
       "      <td>Adm-clerical</td>\n",
       "      <td>Not-in-family</td>\n",
       "      <td>White</td>\n",
       "      <td>Male</td>\n",
       "      <td>2174</td>\n",
       "      <td>0</td>\n",
       "      <td>40</td>\n",
       "      <td>United-States</td>\n",
       "      <td>&lt;=50K</td>\n",
       "    </tr>\n",
       "    <tr>\n",
       "      <th>1</th>\n",
       "      <td>50</td>\n",
       "      <td>Self-emp-not-inc</td>\n",
       "      <td>83311</td>\n",
       "      <td>Bachelors</td>\n",
       "      <td>13</td>\n",
       "      <td>Married-civ-spouse</td>\n",
       "      <td>Exec-managerial</td>\n",
       "      <td>Husband</td>\n",
       "      <td>White</td>\n",
       "      <td>Male</td>\n",
       "      <td>0</td>\n",
       "      <td>0</td>\n",
       "      <td>13</td>\n",
       "      <td>United-States</td>\n",
       "      <td>&lt;=50K</td>\n",
       "    </tr>\n",
       "    <tr>\n",
       "      <th>2</th>\n",
       "      <td>38</td>\n",
       "      <td>Private</td>\n",
       "      <td>215646</td>\n",
       "      <td>HS-grad</td>\n",
       "      <td>9</td>\n",
       "      <td>Divorced</td>\n",
       "      <td>Handlers-cleaners</td>\n",
       "      <td>Not-in-family</td>\n",
       "      <td>White</td>\n",
       "      <td>Male</td>\n",
       "      <td>0</td>\n",
       "      <td>0</td>\n",
       "      <td>40</td>\n",
       "      <td>United-States</td>\n",
       "      <td>&lt;=50K</td>\n",
       "    </tr>\n",
       "    <tr>\n",
       "      <th>3</th>\n",
       "      <td>53</td>\n",
       "      <td>Private</td>\n",
       "      <td>234721</td>\n",
       "      <td>11th</td>\n",
       "      <td>7</td>\n",
       "      <td>Married-civ-spouse</td>\n",
       "      <td>Handlers-cleaners</td>\n",
       "      <td>Husband</td>\n",
       "      <td>Black</td>\n",
       "      <td>Male</td>\n",
       "      <td>0</td>\n",
       "      <td>0</td>\n",
       "      <td>40</td>\n",
       "      <td>United-States</td>\n",
       "      <td>&lt;=50K</td>\n",
       "    </tr>\n",
       "    <tr>\n",
       "      <th>4</th>\n",
       "      <td>28</td>\n",
       "      <td>Private</td>\n",
       "      <td>338409</td>\n",
       "      <td>Bachelors</td>\n",
       "      <td>13</td>\n",
       "      <td>Married-civ-spouse</td>\n",
       "      <td>Prof-specialty</td>\n",
       "      <td>Wife</td>\n",
       "      <td>Black</td>\n",
       "      <td>Female</td>\n",
       "      <td>0</td>\n",
       "      <td>0</td>\n",
       "      <td>40</td>\n",
       "      <td>Cuba</td>\n",
       "      <td>&lt;=50K</td>\n",
       "    </tr>\n",
       "  </tbody>\n",
       "</table>\n",
       "</div>"
      ],
      "text/plain": [
       "   age          workclass  fnlwgt   education  education_num  \\\n",
       "0   39          State-gov   77516   Bachelors             13   \n",
       "1   50   Self-emp-not-inc   83311   Bachelors             13   \n",
       "2   38            Private  215646     HS-grad              9   \n",
       "3   53            Private  234721        11th              7   \n",
       "4   28            Private  338409   Bachelors             13   \n",
       "\n",
       "        marital_status          occupation    relationship    race      sex  \\\n",
       "0        Never-married        Adm-clerical   Not-in-family   White     Male   \n",
       "1   Married-civ-spouse     Exec-managerial         Husband   White     Male   \n",
       "2             Divorced   Handlers-cleaners   Not-in-family   White     Male   \n",
       "3   Married-civ-spouse   Handlers-cleaners         Husband   Black     Male   \n",
       "4   Married-civ-spouse      Prof-specialty            Wife   Black   Female   \n",
       "\n",
       "   capital_gain  capital_loss  hours_per_week  native_country  income  \n",
       "0          2174             0              40   United-States   <=50K  \n",
       "1             0             0              13   United-States   <=50K  \n",
       "2             0             0              40   United-States   <=50K  \n",
       "3             0             0              40   United-States   <=50K  \n",
       "4             0             0              40            Cuba   <=50K  "
      ]
     },
     "execution_count": 3,
     "metadata": {},
     "output_type": "execute_result"
    }
   ],
   "source": [
    "df1 = pd.read_csv('adult_with_headers.csv')\n",
    "df1.head()"
   ]
  },
  {
   "cell_type": "code",
   "execution_count": null,
   "id": "35d3399a-8768-43a8-b6f8-b325ceb05a81",
   "metadata": {},
   "outputs": [],
   "source": [
    "from sklearn.preprocessing import OneHotEncoder, LabelEncoder\n",
    "\n",
    "# Example: Label Encoding for categorical variables with more than 5 categories\n",
    "label_encoder = LabelEncoder()\n",
    "df1['workclass'] = label_encoder.fit_transform(df1['workclass'])\n",
    "df1['education'] = label_encoder.fit_transform(df1['education'])\n",
    "df1['marital_status'] = label_encoder.fit_transform(df1['marital_status'])\n",
    "df1['occupation'] = label_encoder.fit_transform(df1['occupation'])\n",
    "df1['relationship'] = label_encoder.fit_transform(df1['relationship'])\n",
    "df1['race'] = label_encoder.fit_transform(df1['race'])\n",
    "df1['sex'] = label_encoder.fit_transform(df1['sex'])\n",
    "df1['native_country'] = label_encoder.fit_transform(df1['native_country'])\n",
    "\n",
    "df1 = pd.get_dummies(df1, columns=['sex'], drop_first=True)\n",
    "df1.head()"
   ]
  },
  {
   "cell_type": "code",
   "execution_count": null,
   "id": "68de9634-1af3-4074-b37b-b951797b897d",
   "metadata": {},
   "outputs": [],
   "source": [
    "from sklearn.ensemble import IsolationForest\n",
    "\n",
    "# Initialize Isolation Forest\n",
    "iso_forest = IsolationForest(contamination=0.05, random_state=42) \n",
    "\n",
    "# Fit the model and predict outliers\n",
    "df1['anomaly'] = iso_forest.fit_predict(df1.drop('income', axis=1))  \n",
    "\n",
    "# Remove outliers\n",
    "df_cleaned = df1[df1['anomaly'] == 1]  \n",
    "df_cleaned = df_cleaned.drop(columns=['anomaly']) \n",
    "\n",
    "print(f\"Original dataset shape: {df1.shape}\")\n",
    "print(f\"Cleaned dataset shape: {df_cleaned.shape}\")"
   ]
  },
  {
   "cell_type": "code",
   "execution_count": null,
   "id": "4722ab58-4385-4d17-a7f6-3b6f1ae2f612",
   "metadata": {},
   "outputs": [],
   "source": [
    "!pip install ppscore"
   ]
  },
  {
   "cell_type": "code",
   "execution_count": null,
   "id": "d6245aaa-7792-4684-98b8-ee5cb4c42f9f",
   "metadata": {},
   "outputs": [],
   "source": [
    "# Predictive Power Score (PPS)\n",
    "import ppscore as pps\n",
    "\n",
    "# Calculate PPS matrix\n",
    "pps_matrix = pps.matrix(df1)\n",
    "\n",
    "# Filter for the target variable\n",
    "pps_target = pps_matrix[pps_matrix['y'] == 'income']\n",
    "print(pps_target.sort_values(by='ppscore', ascending=False))"
   ]
  },
  {
   "cell_type": "code",
   "execution_count": null,
   "id": "e7c4c476-7e15-4539-8a58-14348583d663",
   "metadata": {},
   "outputs": [],
   "source": [
    "import ppscore as pps\n",
    "\n",
    "# Calculate PPS matrix\n",
    "pps_matrix = pps.matrix(df_cleaned)\n",
    "\n",
    "# Filter for the target variable\n",
    "pps_target = pps_matrix[pps_matrix['y'] == 'income']\n",
    "\n",
    "# Display features sorted by PPS score\n",
    "print(pps_target.sort_values(by='ppscore', ascending=False))"
   ]
  },
  {
   "cell_type": "code",
   "execution_count": null,
   "id": "acae21b0-58e2-47af-aee5-10e77cd87fe4",
   "metadata": {},
   "outputs": [],
   "source": []
  }
 ],
 "metadata": {
  "kernelspec": {
   "display_name": "Python [conda env:base] *",
   "language": "python",
   "name": "conda-base-py"
  },
  "language_info": {
   "codemirror_mode": {
    "name": "ipython",
    "version": 3
   },
   "file_extension": ".py",
   "mimetype": "text/x-python",
   "name": "python",
   "nbconvert_exporter": "python",
   "pygments_lexer": "ipython3",
   "version": "3.12.7"
  }
 },
 "nbformat": 4,
 "nbformat_minor": 5
}
