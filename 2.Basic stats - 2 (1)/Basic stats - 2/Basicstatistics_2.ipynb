{
 "cells": [
  {
   "cell_type": "markdown",
   "id": "c3b7f25e-413e-4ad1-b8be-e12cd50391b0",
   "metadata": {},
   "source": [
    "# ESTIMATION AND CONFIDENCE INTERVALS"
   ]
  },
  {
   "cell_type": "code",
   "execution_count": 7,
   "id": "b9def151-0ae2-43cb-9d0b-cc9bf24d6f6c",
   "metadata": {},
   "outputs": [],
   "source": [
    "import numpy as np\n",
    "from scipy import stats"
   ]
  },
  {
   "cell_type": "code",
   "execution_count": 9,
   "id": "79d64f88-b5b3-4231-8cf0-9ceec29f8c03",
   "metadata": {},
   "outputs": [],
   "source": [
    "data = [1.13,1.55,1.43,0.92,1.25,1.36,1.32,0.85,1.07,1.43,1.20,1.33,1.18,1.22,1.29]"
   ]
  },
  {
   "cell_type": "code",
   "execution_count": 11,
   "id": "38bd69d4-82e2-4727-b9b3-b3d545f07b03",
   "metadata": {},
   "outputs": [],
   "source": [
    "n =  len(data)"
   ]
  },
  {
   "cell_type": "markdown",
   "id": "e181b74b-a0ab-45b5-823d-47b8bebebf96",
   "metadata": {},
   "source": [
    "### 1. Calculate the smaple mean"
   ]
  },
  {
   "cell_type": "code",
   "execution_count": 19,
   "id": "b72f0816-21fd-4dc8-84d4-2da1670e20bb",
   "metadata": {},
   "outputs": [
    {
     "data": {
      "text/plain": [
       "1.2353333333333332"
      ]
     },
     "execution_count": 19,
     "metadata": {},
     "output_type": "execute_result"
    }
   ],
   "source": [
    "sample_mean = np.mean(data)\n",
    "sample_mean"
   ]
  },
  {
   "cell_type": "markdown",
   "id": "8d48acb9-34e7-42fd-8bcc-c634887f8ea1",
   "metadata": {},
   "source": [
    "### Calculate the sample standard deviation:"
   ]
  },
  {
   "cell_type": "code",
   "execution_count": 79,
   "id": "690ad4a2-21f3-41b2-9ed2-0b97bf47c5c4",
   "metadata": {},
   "outputs": [
    {
     "data": {
      "text/plain": [
       "0.18909055527772428"
      ]
     },
     "execution_count": 79,
     "metadata": {},
     "output_type": "execute_result"
    }
   ],
   "source": [
    "sample_std = np.std(data, ddof=1)\n",
    "sample_std"
   ]
  },
  {
   "cell_type": "markdown",
   "id": "e4dfce29-c18f-42e4-90c4-75bcae436f0f",
   "metadata": {},
   "source": [
    "### 3. Determine the t-score for a  99% confidence interval with 14 degrees of freedom:"
   ]
  },
  {
   "cell_type": "code",
   "execution_count": 27,
   "id": "f04dbce6-c203-4ad2-ba0e-6a5448dab998",
   "metadata": {},
   "outputs": [
    {
     "data": {
      "text/plain": [
       "2.976842734370834"
      ]
     },
     "execution_count": 27,
     "metadata": {},
     "output_type": "execute_result"
    }
   ],
   "source": [
    "t_score = stats.t.ppf(0.995,  df=n-1)\n",
    "t_score"
   ]
  },
  {
   "cell_type": "markdown",
   "id": "7912f1ad-9772-4d17-954a-14d53da03d72",
   "metadata": {},
   "source": [
    "### 4.  Calculate the margin of error:"
   ]
  },
  {
   "cell_type": "code",
   "execution_count": 33,
   "id": "7908088c-3148-4e72-b880-a58ddedae1b8",
   "metadata": {},
   "outputs": [
    {
     "data": {
      "text/plain": [
       "0.14533830778483664"
      ]
     },
     "execution_count": 33,
     "metadata": {},
     "output_type": "execute_result"
    }
   ],
   "source": [
    "margin_of_error_t = t_score *(sample_std/np.sqrt(n))\n",
    "margin_of_error_t"
   ]
  },
  {
   "cell_type": "markdown",
   "id": "8f09cf87-0211-4737-8a18-cbb1df67f02a",
   "metadata": {},
   "source": [
    "### 5. Construct the confidence inverval:\n"
   ]
  },
  {
   "cell_type": "code",
   "execution_count": 39,
   "id": "23754450-157b-46c6-a8f2-5c0f90b78771",
   "metadata": {},
   "outputs": [
    {
     "data": {
      "text/plain": [
       "(1.0899950255484965, 1.3806716411181699)"
      ]
     },
     "execution_count": 39,
     "metadata": {},
     "output_type": "execute_result"
    }
   ],
   "source": [
    "confidence_interval_t = (sample_mean - margin_of_error_t, sample_mean + margin_of_error_t)\n",
    "confidence_interval_t"
   ]
  },
  {
   "cell_type": "markdown",
   "id": "d034631e-2723-48ac-9566-bbdb71d0e938",
   "metadata": {},
   "source": [
    "# part B: Using Know Population Standard Deviation"
   ]
  },
  {
   "cell_type": "markdown",
   "id": "84e517f3-697b-409a-b96b-61f9da1459ab",
   "metadata": {},
   "source": [
    "### 1.Use the know population standard deviation:"
   ]
  },
  {
   "cell_type": "code",
   "execution_count": 45,
   "id": "13848fc8-8cad-49f4-944e-6cc69beca4f7",
   "metadata": {},
   "outputs": [],
   "source": [
    "population_std = 0.2"
   ]
  },
  {
   "cell_type": "markdown",
   "id": "0f7b5497-82c6-420f-8227-eedfbe1a7dff",
   "metadata": {},
   "source": [
    "### 2.Determine the Z-score for a 99% confidence interval:"
   ]
  },
  {
   "cell_type": "code",
   "execution_count": 55,
   "id": "0553857f-9794-4f13-a4f0-4ee5f9492b94",
   "metadata": {},
   "outputs": [
    {
     "data": {
      "text/plain": [
       "2.5758293035489004"
      ]
     },
     "execution_count": 55,
     "metadata": {},
     "output_type": "execute_result"
    }
   ],
   "source": [
    "z_score = stats.norm.ppf(0.995)\n",
    "z_score"
   ]
  },
  {
   "cell_type": "markdown",
   "id": "7a844980-2e30-4182-a08a-11dac118bc60",
   "metadata": {},
   "source": [
    "### 3. calcualte the margin of error:"
   ]
  },
  {
   "cell_type": "code",
   "execution_count": 59,
   "id": "1ad872d8-2909-435e-bd3a-bb03bd7ae2e9",
   "metadata": {},
   "outputs": [
    {
     "data": {
      "text/plain": [
       "0.13301525327090588"
      ]
     },
     "execution_count": 59,
     "metadata": {},
     "output_type": "execute_result"
    }
   ],
   "source": [
    "margin_of_error_z = z_score * (population_std/np.sqrt(n))\n",
    "margin_of_error_z"
   ]
  },
  {
   "cell_type": "markdown",
   "id": "dfb4fe17-9dc6-4956-83ae-fbdc7ef4ada2",
   "metadata": {},
   "source": [
    "### 4.Construct the confidence interval:"
   ]
  },
  {
   "cell_type": "code",
   "execution_count": 67,
   "id": "f5e2d5f6-1af2-4141-a265-14c182d45d42",
   "metadata": {},
   "outputs": [
    {
     "data": {
      "text/plain": [
       "(1.1023180800624273, 1.368348586604239)"
      ]
     },
     "execution_count": 67,
     "metadata": {},
     "output_type": "execute_result"
    }
   ],
   "source": [
    "confidence_interval_z = (sample_mean - margin_of_error_z, sample_mean + margin_of_error_z)\n",
    "confidence_interval_z"
   ]
  },
  {
   "cell_type": "markdown",
   "id": "252ad15f-2ee9-40eb-b7c6-5c7f2ae5feb8",
   "metadata": {},
   "source": [
    "\n",
    "## Final Answers\t\n",
    "### The 99% confidence interval using the sample standard deviation is {(1.09, 1.39)} million characters.\n",
    "### The 99% confidence interval using the known population standard deviation is {(1.11, 1.37)} million characters.\n"
   ]
  },
  {
   "cell_type": "code",
   "execution_count": null,
   "id": "5d11655f-52ac-4c75-a657-6e2c116930e9",
   "metadata": {},
   "outputs": [],
   "source": []
  },
  {
   "cell_type": "code",
   "execution_count": null,
   "id": "f82fb6b1-5bd7-4be4-97c8-27dde20dec4c",
   "metadata": {},
   "outputs": [],
   "source": []
  }
 ],
 "metadata": {
  "kernelspec": {
   "display_name": "Python [conda env:base] *",
   "language": "python",
   "name": "conda-base-py"
  },
  "language_info": {
   "codemirror_mode": {
    "name": "ipython",
    "version": 3
   },
   "file_extension": ".py",
   "mimetype": "text/x-python",
   "name": "python",
   "nbconvert_exporter": "python",
   "pygments_lexer": "ipython3",
   "version": "3.12.7"
  }
 },
 "nbformat": 4,
 "nbformat_minor": 5
}
